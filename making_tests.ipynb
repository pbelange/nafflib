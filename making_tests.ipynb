{
 "cells": [
  {
   "cell_type": "code",
   "execution_count": 1,
   "metadata": {},
   "outputs": [],
   "source": [
    "import numpy as np\n",
    "import nafflib\n",
    "\n",
    "\n",
    "\n",
    "#=================================\n",
    "num_turns = int(3e4)\n",
    "files = [f'tests/data/LHC_particle_{s}_momentum_{i}sigma.csv'  for s in ['on','off'] for i in [1,3,5]]\n",
    "#-------------------\n",
    "def read_csv(filename):\n",
    "    filecontent = np.genfromtxt(filename,\n",
    "                            delimiter   =',',\n",
    "                            skip_header = 1,\n",
    "                            converters  = {col: lambda s: complex(s.decode()) for col in [1,3,5]},\n",
    "                            unpack=True)\n",
    "    data = {}\n",
    "    data['Ax']      = filecontent[1]\n",
    "    data['Qx']      = filecontent[2]\n",
    "    data['Ay']      = filecontent[3]\n",
    "    data['Qy']      = filecontent[4]\n",
    "    data['Azeta']   = filecontent[5]\n",
    "    data['Qzeta']   = filecontent[6]\n",
    "    return data\n",
    "#-------------------\n",
    "example_signals = []\n",
    "for file in files:\n",
    "    data = read_csv(file)\n",
    "    data['name'] = file\n",
    "    for plane in ['x','y','zeta']:\n",
    "        z,pz = nafflib.generate_signal(data[f'A{plane}'],data[f'Q{plane}'],np.arange(num_turns))\n",
    "        data[f'{plane}']  = z\n",
    "        data[f'p{plane}'] = pz\n",
    "    example_signals.append(data)\n",
    "#=================================\n",
    "        \n",
    "\n",
    "# def test_map():\n",
    "n_harm   = 100\n",
    "cmp_harm = 5\n",
    "N = np.arange(num_turns)\n",
    "for data in example_signals:\n",
    "    Q_vec = [nafflib.tune(data[f'{plane}'],data[f'p{plane}'],window_order=4) for plane in ['x','y','zeta']]\n",
    "    \n",
    "    for plane in ['x','y','zeta']:\n",
    "        A,Q      = data[f'A{plane}'],data[f'Q{plane}']\n",
    "        z_r,pz_r = data[f'{plane}'] ,data[f'p{plane}']\n",
    "\n",
    "        # Finding harmonics\n",
    "        A_r,Q_r = nafflib.harmonics(z_r,pz_r,   num_harmonics = n_harm,\n",
    "                                                window_order  = 4,\n",
    "                                                window_type   = 'hann')\n",
    "\n",
    "\n",
    "        # Reconstructing signal\n",
    "        z_rr,pz_rr = nafflib.generate_signal(A_r,Q_r,N)\n",
    "\n",
    "        # Comparing tracking results\n",
    "        assert np.allclose(z_r,z_rr,   atol=1e-3,rtol=0), f'X-Phasor tracking exceeded tolerance, in {data[\"name\"]}, {plane} plane'\n",
    "        assert np.allclose(pz_r,pz_rr, atol=1e-3,rtol=0), f'PX-Phasor tracking exceeded tolerance, in {data[\"name\"]}, {plane} plane'\n",
    "\n",
    "\n",
    "        # Looking for matching harmonics\n",
    "        # Sorting lines and compiling errors\n",
    "        #-----------------------------------\n",
    "        r,_,_ = nafflib.find_linear_combinations(Q[:int(2*cmp_harm)],fundamental_tunes= Q_vec)\n",
    "        r_found,_,_  = nafflib.find_linear_combinations(Q_r[:cmp_harm],fundamental_tunes  = Q_vec,\n",
    "                                                                             max_harmonic_order = 10)\n",
    "\n",
    "        errors_Q = []\n",
    "        errors_A = []\n",
    "        for res,_A,_Q in zip(r_found,A_r,Q_r):\n",
    "            match_idx = r.index(res)\n",
    "            errors_Q.append(np.abs(Q[match_idx]-_Q))\n",
    "            errors_A.append(np.abs(np.abs(A[match_idx])-np.abs(_A)))\n",
    "        #-----------------------------------\n",
    "            \n",
    "        assert np.allclose(errors_Q,0, atol=1e-11,rtol=0), f'Q-tolerance not met, in {data[\"name\"]}, {plane} plane'\n",
    "        assert np.allclose(errors_A,0, atol=1e-10,rtol=0), f'A-tolerance not met, in {data[\"name\"]}, {plane} plane'\n",
    "\n",
    "        \n"
   ]
  },
  {
   "cell_type": "code",
   "execution_count": 8,
   "metadata": {},
   "outputs": [
    {
     "data": {
      "text/plain": [
       "'/Users/pbelanger/ABPLocal/nafflib/nafflib../test'"
      ]
     },
     "execution_count": 8,
     "metadata": {},
     "output_type": "execute_result"
    }
   ],
   "source": [
    "nafflib.__path__[0] + '/../test'"
   ]
  },
  {
   "cell_type": "code",
   "execution_count": 3,
   "metadata": {},
   "outputs": [
    {
     "data": {
      "text/plain": [
       "[1.9257338779166133e-13,\n",
       " 3.2425539114394556e-11,\n",
       " 8.556483237654594e-09,\n",
       " 1.629517141013559e-09,\n",
       " 1.8632664855466885e-14]"
      ]
     },
     "execution_count": 3,
     "metadata": {},
     "output_type": "execute_result"
    }
   ],
   "source": [
    "errors_Q"
   ]
  },
  {
   "cell_type": "code",
   "execution_count": 19,
   "metadata": {},
   "outputs": [
    {
     "data": {
      "text/plain": [
       "array([ 1.98907514e-13,  1.22634672e-12,  8.40638323e-14, -9.48546797e-14,\n",
       "        2.56992426e-13,  2.49066809e-11,  2.64133715e-11,  8.57681981e-14,\n",
       "        1.27674347e-13,  7.72449854e-10, -8.72675491e-11, -6.03386494e-10,\n",
       "       -5.45352881e-10,  1.11049078e-09,  1.01792429e-11,  2.69100384e-11,\n",
       "        5.24030389e-10,  2.18937438e-11,  7.29089011e-12,  1.37532347e-12,\n",
       "       -7.35336791e-12, -9.03582764e-13, -3.34814121e-12,  9.05599061e-10,\n",
       "        3.18999688e-12, -9.23674748e-10, -1.62670918e-11,  1.31401556e-11,\n",
       "       -1.40993883e-11,  8.15503221e-12, -7.35655981e-12, -3.39379198e-09,\n",
       "        1.62227870e-11,  2.88542271e-09, -3.48054918e-13, -4.10171896e-13,\n",
       "        3.30772965e-09, -3.67106345e-12,  4.61064520e-12, -2.81316698e-09,\n",
       "       -3.97035183e-12, -1.45742302e-09, -1.56752389e-12,  1.41464063e-11,\n",
       "        1.47107804e-09,  3.78896914e-12,  5.76771964e-12, -5.96399319e-12,\n",
       "        6.12593309e-12,  1.49139034e-12, -3.47742946e-11, -1.03869691e-11,\n",
       "        1.01614828e-11, -1.60753051e-09,  3.51693258e-11, -4.61534283e-12,\n",
       "       -7.41129380e-12, -8.60828075e-12,  7.39353023e-12,  8.62310223e-12,\n",
       "        5.41171274e-13, -7.19185822e-12, -1.44328993e-15,  7.20812299e-12,\n",
       "       -2.72004641e-15,  1.28785871e-14, -9.71445147e-15, -8.47516501e-14,\n",
       "        1.80938597e-13,  1.37905312e-13,  1.83915383e-13, -3.11292658e-13,\n",
       "       -7.43582973e-12,  8.29597502e-12,  1.69642078e-13,  2.75822448e-01,\n",
       "       -2.75822448e-01,  8.01025912e-14,  1.26565425e-14, -1.48480811e-11,\n",
       "       -1.57547586e-14, -3.15451831e-12,  1.47512141e-11, -1.63671753e-09,\n",
       "        6.06459327e-15,  3.19760884e-12, -2.37587727e-14, -1.11036180e-13,\n",
       "        5.16755562e-12, -8.38218384e-15,  1.69243015e-09, -3.13082893e-14,\n",
       "        9.05248099e-14, -2.40085729e-13, -2.29512763e-12, -1.56541446e-14,\n",
       "       -2.31481501e-14, -1.37886230e-12,  2.43249865e-13,  1.04933423e-13])"
      ]
     },
     "execution_count": 19,
     "metadata": {},
     "output_type": "execute_result"
    }
   ],
   "source": [
    "Q-Q_r"
   ]
  },
  {
   "cell_type": "code",
   "execution_count": 61,
   "metadata": {},
   "outputs": [],
   "source": [
    "file = 'tests/data/LHC_particle_on_momentum_1sigma.csv'\n",
    "import pandas as pd\n",
    "df  = pd.read_csv(file,index_col=0)\n",
    "data = {} \n",
    "filecontent = np.genfromtxt(file,\n",
    "                            delimiter   =',',\n",
    "                            skip_header = 1,\n",
    "                            converters  = {col: lambda s: complex(s.decode()) for col in [1,3,5]},\n",
    "                            unpack=True)\n",
    "data['Ax']      = filecontent[1]\n",
    "data['Qx']      = filecontent[2]\n",
    "data['Ay']      = filecontent[3]\n",
    "data['Qy']      = filecontent[4]\n",
    "data['Azeta']   = filecontent[5]\n",
    "data['Qzeta']   = filecontent[6]\n"
   ]
  },
  {
   "cell_type": "code",
   "execution_count": 69,
   "metadata": {},
   "outputs": [
    {
     "data": {
      "text/plain": [
       "[['tests/data/LHC_particle_on_momentum_1sigma.csv',\n",
       "  'tests/data/LHC_particle_on_momentum_3sigma.csv',\n",
       "  'tests/data/LHC_particle_on_momentum_5sigma.csv'],\n",
       " ['tests/data/LHC_particle_off_momentum_1sigma.csv',\n",
       "  'tests/data/LHC_particle_off_momentum_3sigma.csv',\n",
       "  'tests/data/LHC_particle_off_momentum_5sigma.csv']]"
      ]
     },
     "execution_count": 69,
     "metadata": {},
     "output_type": "execute_result"
    }
   ],
   "source": [
    "[[f'tests/data/LHC_particle_{s}_momentum_{i}sigma.csv' for i in [1,3,5]] for s in ['on','off']]"
   ]
  },
  {
   "cell_type": "code",
   "execution_count": 78,
   "metadata": {},
   "outputs": [],
   "source": [
    "files = [f'tests/data/LHC_particle_{s}_momentum_{i}sigma.csv'  for s in ['on','off'] for i in [1,3,5]]"
   ]
  },
  {
   "cell_type": "code",
   "execution_count": 79,
   "metadata": {},
   "outputs": [
    {
     "data": {
      "text/plain": [
       "['tests/data/LHC_particle_on_momentum_1sigma.csv',\n",
       " 'tests/data/LHC_particle_on_momentum_3sigma.csv',\n",
       " 'tests/data/LHC_particle_on_momentum_5sigma.csv',\n",
       " 'tests/data/LHC_particle_off_momentum_1sigma.csv',\n",
       " 'tests/data/LHC_particle_off_momentum_3sigma.csv',\n",
       " 'tests/data/LHC_particle_off_momentum_5sigma.csv']"
      ]
     },
     "execution_count": 79,
     "metadata": {},
     "output_type": "execute_result"
    }
   ],
   "source": [
    "files"
   ]
  },
  {
   "cell_type": "code",
   "execution_count": 75,
   "metadata": {},
   "outputs": [
    {
     "ename": "TypeError",
     "evalue": "unsupported operand type(s) for +: 'int' and 'list'",
     "output_type": "error",
     "traceback": [
      "\u001b[0;31m---------------------------------------------------------------------------\u001b[0m",
      "\u001b[0;31mTypeError\u001b[0m                                 Traceback (most recent call last)",
      "Cell \u001b[0;32mIn[75], line 1\u001b[0m\n\u001b[0;32m----> 1\u001b[0m \u001b[38;5;28;43msum\u001b[39;49m\u001b[43m(\u001b[49m\u001b[43m[\u001b[49m\u001b[43mfiles\u001b[49m\u001b[43m]\u001b[49m\u001b[43m)\u001b[49m\n",
      "\u001b[0;31mTypeError\u001b[0m: unsupported operand type(s) for +: 'int' and 'list'"
     ]
    }
   ],
   "source": [
    "sum([files])"
   ]
  },
  {
   "cell_type": "code",
   "execution_count": 37,
   "metadata": {},
   "outputs": [
    {
     "data": {
      "text/plain": [
       "numpy.complex128"
      ]
     },
     "execution_count": 37,
     "metadata": {},
     "output_type": "execute_result"
    }
   ],
   "source": [
    "type(test[0])"
   ]
  },
  {
   "cell_type": "code",
   "execution_count": null,
   "metadata": {},
   "outputs": [],
   "source": [
    "Q0 = 0.09875*np.pi\n",
    "Q1 = 0.09875*np.exp(1)\n",
    "Q2 = 0.09875*np.sqrt(2)"
   ]
  },
  {
   "cell_type": "code",
   "execution_count": null,
   "metadata": {},
   "outputs": [
    {
     "name": "stdout",
     "output_type": "stream",
     "text": [
      "(0, 'a')\n",
      "(1, 'b')\n"
     ]
    }
   ],
   "source": [
    "for Q_map in enumerate(['a','b']):\n",
    "    print(Q_map)"
   ]
  },
  {
   "cell_type": "code",
   "execution_count": null,
   "metadata": {},
   "outputs": [
    {
     "data": {
      "text/plain": [
       "array([False, False, False, False, False, False, False, False, False,\n",
       "       False, False, False, False, False, False, False,  True, False,\n",
       "       False, False, False, False, False, False, False, False, False,\n",
       "       False, False, False, False, False, False])"
      ]
     },
     "execution_count": 9,
     "metadata": {},
     "output_type": "execute_result"
    }
   ],
   "source": []
  },
  {
   "cell_type": "code",
   "execution_count": null,
   "metadata": {},
   "outputs": [
    {
     "data": {
      "text/plain": [
       "array([6.21886680e-05, 9.70336804e-05, 1.71983834e-04, 3.83656244e-04,\n",
       "       1.46692093e-03, 2.49376559e-02, 1.46692093e-03, 3.83656244e-04,\n",
       "       1.71983834e-04, 9.70336804e-05, 6.21886680e-05, 2.49376559e-02,\n",
       "       3.89105058e-02, 6.89655172e-02, 1.53846154e-01, 5.88235294e-01,\n",
       "       1.00000000e+01, 5.88235294e-01, 1.53846154e-01, 6.89655172e-02,\n",
       "       3.89105058e-02, 2.49376559e-02, 6.21886680e-05, 9.70336804e-05,\n",
       "       1.71983834e-04, 3.83656244e-04, 1.46692093e-03, 2.49376559e-02,\n",
       "       1.46692093e-03, 3.83656244e-04, 1.71983834e-04, 9.70336804e-05,\n",
       "       6.21886680e-05])"
      ]
     },
     "execution_count": 7,
     "metadata": {},
     "output_type": "execute_result"
    }
   ],
   "source": [
    "A"
   ]
  },
  {
   "cell_type": "code",
   "execution_count": null,
   "metadata": {},
   "outputs": [
    {
     "data": {
      "text/plain": [
       "array([-2.58052762e-03, -2.58052761e-03, -2.23221106e-03, -2.00000002e-03,\n",
       "       -2.34831655e-03, -2.34831655e-03, -1.53557793e-03, -1.30336688e-03,\n",
       "       -2.11610550e-03, -9.55050284e-04,  5.80527620e-04, -1.16105524e-03,\n",
       "       -2.46442210e-03, -2.46442209e-03,  1.88389447e-03,  1.76778896e-03,\n",
       "       -1.88389449e-03, -1.65168345e-03,  2.00000002e-03,  2.58052760e-03,\n",
       "       -1.76778893e-03, -1.76778893e-03,  3.76778893e-03,  3.18726136e-03,\n",
       "       -2.40245046e-11,  2.32211023e-04, -5.80527594e-04,  3.53557793e-03,\n",
       "        4.58052759e-03,  3.65168343e-03,  4.92884419e-03,  1.04494972e-03,\n",
       "        1.05471187e-15])"
      ]
     },
     "execution_count": 4,
     "metadata": {},
     "output_type": "execute_result"
    }
   ],
   "source": [
    "np.allclose(Q,Q_found,atol=1e-3)"
   ]
  },
  {
   "cell_type": "code",
   "execution_count": null,
   "metadata": {},
   "outputs": [
    {
     "data": {
      "text/plain": [
       "array([-9.99993548e+00, -5.88138012e-01, -5.88063007e-01, -1.53462363e-01,\n",
       "       -1.52379098e-01, -4.40277858e-02, -6.74985208e-02, -3.85267997e-02,\n",
       "       -3.87384721e-02, -2.48406222e-02, -2.48754614e-02,  1.38770939e-12,\n",
       "        1.39728558e-02,  6.74985969e-02,  1.52379234e-01,  5.86768374e-01,\n",
       "        9.99853308e+00,  5.87851638e-01,  1.53462498e-01,  6.85818613e-02,\n",
       "        3.85268499e-02,  2.47656722e-02, -1.09794977e-04, -7.49499648e-05,\n",
       "        1.88358382e-10,  2.86622688e-04,  1.36988738e-03,  2.48406223e-02,\n",
       "        1.36988738e-03,  3.21467576e-04,  1.09795166e-04,  3.48450124e-05,\n",
       "       -1.05182519e-15])"
      ]
     },
     "execution_count": 2,
     "metadata": {},
     "output_type": "execute_result"
    }
   ],
   "source": [
    "np.abs(A) - np.abs(A_found)"
   ]
  },
  {
   "cell_type": "code",
   "execution_count": null,
   "metadata": {},
   "outputs": [
    {
     "data": {
      "text/plain": [
       "array([-9.99993548e+00, -5.88138012e-01, -5.88063007e-01, -1.53462363e-01,\n",
       "       -1.52379098e-01, -4.40277858e-02, -6.74985208e-02, -3.85267997e-02,\n",
       "       -3.87384721e-02, -2.48406222e-02, -2.48754614e-02,  1.38770939e-12,\n",
       "        1.39728558e-02,  6.74985969e-02,  1.52379234e-01,  5.86768374e-01,\n",
       "        9.99853308e+00,  5.87851638e-01,  1.53462498e-01,  6.85818613e-02,\n",
       "        3.85268499e-02,  2.47656722e-02, -1.09794977e-04, -7.49499648e-05,\n",
       "        1.88368230e-10,  2.86622688e-04,  1.36988738e-03,  2.48406223e-02,\n",
       "        1.36988738e-03,  3.21467576e-04,  1.09795166e-04,  3.48450124e-05,\n",
       "       -1.05182519e-15])"
      ]
     },
     "execution_count": 7,
     "metadata": {},
     "output_type": "execute_result"
    }
   ],
   "source": [
    "np.real(A) - np.real(A_found)"
   ]
  },
  {
   "cell_type": "code",
   "execution_count": null,
   "metadata": {},
   "outputs": [
    {
     "data": {
      "image/png": "[encoded data removed]",
      "text/plain": [
       "<Figure size 1500x600 with 2 Axes>"
      ]
     },
     "metadata": {},
     "output_type": "display_data"
    },
    {
     "data": {
      "image/png": "[encoded data removed]",
      "text/plain": [
       "<Figure size 1500x600 with 2 Axes>"
      ]
     },
     "metadata": {},
     "output_type": "display_data"
    },
    {
     "data": {
      "image/png": "[encoded data removed]",
      "text/plain": [
       "<Figure size 1500x600 with 2 Axes>"
      ]
     },
     "metadata": {},
     "output_type": "display_data"
    }
   ],
   "source": [
    "def get_FFT(x):\n",
    "    x     = np.array(x)\n",
    "    turns = np.arange(len(x))\n",
    "\n",
    "    # Cropping signal to closest power of 2\n",
    "    Nt      = len(x)\n",
    "    crop_at = 2**int(np.log2(Nt))\n",
    "\n",
    "\n",
    "\n",
    "    \n",
    "    spectrum = np.fft.fft(x[:crop_at])\n",
    "    freq     = np.fft.fftfreq(turns[:crop_at].shape[-1])\n",
    "\n",
    "    idx      = np.argmax(np.abs(spectrum))\n",
    "    Qx       = freq[idx]\n",
    "    return freq[freq>0],np.abs(spectrum)[freq>0]\n",
    "\n",
    "import matplotlib.pyplot as plt\n",
    "for label in ['param_1','param_2','param_3']:\n",
    "\n",
    "    # Extracting signal\n",
    "    x,px = example_signals[label]\n",
    "    Q,A  = example_signals[f'{label}:Q'],example_signals[f'{label}:A']\n",
    "\n",
    "    z    = x - 1j*px\n",
    "    N    = np.arange(len(z))\n",
    "\n",
    "\n",
    "    # Computing FFT\n",
    "    freq,spectrum = get_FFT(x)\n",
    "\n",
    "    # Computing frequencies and amplitudes with SUSSIX\n",
    "    #=================================================\n",
    "    results = nafflib.harmonics( x, px, num_harmonics = len(Q),window_order = 2,to_pandas=True)\n",
    "    #=================================================\n",
    "\n",
    "    plt.figure(figsize=(15,6))\n",
    "    plt.plot(freq,spectrum/np.max(spectrum),'-',label='FFT')\n",
    "    plt.yscale('log')\n",
    "    plt.xlabel('Frequency')\n",
    "    plt.ylabel('Normalised FFT')\n",
    "    plt.legend(loc='upper left')\n",
    "    plt.ylim(2e-4,1e3)\n",
    "\n",
    "\n",
    "    ax2 = plt.gca().twinx()\n",
    "    plt.plot(Q,A,'o',color='C4',alpha=1,mfc='none',label='Expected')\n",
    "    plt.plot(results.frequency,np.abs(results.amplitude),'x',color='k',alpha=1,mfc='none',label='SUSSIX')\n",
    "\n",
    "    plt.yscale('log')\n",
    "    plt.ylabel('Amplitude')\n",
    "\n",
    "    Qs = 0.002\n",
    "    dQ = Qs/12\n",
    "    plt.xlim(Q0-30*dQ,Q0+30*dQ)\n",
    "\n",
    "    for line in Q:\n",
    "        plt.axvline(line,color='k',alpha=0.1,zorder=-10)\n",
    "\n",
    "    plt.ylim(2e-9,1e2)\n",
    "\n",
    "    plt.legend(loc='upper right')"
   ]
  },
  {
   "cell_type": "code",
   "execution_count": null,
   "metadata": {},
   "outputs": [
    {
     "name": "stdout",
     "output_type": "stream",
     "text": [
      "param = 5.235987755982988\n",
      "param = 10.966227112321507\n",
      "param = 17.225709266833228\n"
     ]
    }
   ],
   "source": [
    "for num,label in zip([1,2,3],['param_1','param_2','param_3']):\n",
    "    # set of irrationnal numbers for spectrum spacing\n",
    "    param = 5*num*(np.pi/3)**num\n",
    "    print(f'param = {param}')"
   ]
  },
  {
   "cell_type": "code",
   "execution_count": null,
   "metadata": {},
   "outputs": [],
   "source": []
  },
  {
   "cell_type": "code",
   "execution_count": null,
   "metadata": {},
   "outputs": [],
   "source": []
  },
  {
   "cell_type": "code",
   "execution_count": null,
   "metadata": {},
   "outputs": [],
   "source": []
  },
  {
   "cell_type": "code",
   "execution_count": null,
   "metadata": {},
   "outputs": [],
   "source": []
  },
  {
   "cell_type": "markdown",
   "metadata": {},
   "source": [
    "---\n",
    "# TESTS\n",
    "---"
   ]
  },
  {
   "cell_type": "code",
   "execution_count": null,
   "metadata": {},
   "outputs": [],
   "source": [
    "import pandas as pd\n",
    "# PARTICLES ON MOMENTUM\n",
    "particles_on_p  = []\n",
    "KAM_on_p  = []\n",
    "for file in ['tests/data/LHC_particle_on_momentum_1sigma.csv',\n",
    "             'tests/data/LHC_particle_on_momentum_3sigma.csv',\n",
    "             'tests/data/LHC_particle_on_momentum_5sigma.csv']:\n",
    "    \n",
    "    # Loading file\n",
    "    df  = pd.read_csv(file,index_col=0)\n",
    "    dct = {}\n",
    "    for plane in ['x','y','zeta']:  \n",
    "\n",
    "        _df = df[[f'A{plane}',f'Q{plane}']].rename(columns={f'A{plane}':'amplitude',f'Q{plane}':'frequency'}).astype({'amplitude':np.complex128,'frequency':np.float64})\n",
    "\n",
    "        # Recreating the signal\n",
    "        nturns = int(1e4)\n",
    "        z,pz = nafflib.generate_signal(_df.amplitude,_df.frequency,np.arange(int(nturns)))\n",
    "\n",
    "        # Saving the signal\n",
    "        dct[f'{plane}']   = z\n",
    "        dct[f'p{plane}']  = pz\n",
    "        dct[f'df{plane}'] = _df\n",
    "    particles_on_p.append(dct)\n",
    "\n",
    "\n",
    "# Extracting signal\n",
    "part = particles_on_p[0]\n",
    "x,px = part['x'],part['px']\n",
    "N    = np.arange(len(x))\n",
    "\n",
    "# Choosing number of harmonics\n",
    "n_harm = 50\n",
    "\n",
    "A,Q    = nafflib.harmonics(x,px,num_harmonics = n_harm,window_order = 2,window_type = 'hann')\n",
    "fundamental_tunes = [nafflib.tune(part[f'{plane}'],part[f'p{plane}'],window_order=2) for plane in ['x','y','zeta']]\n",
    "# r,_,_  = nafflib.find_linear_combinations(Q,fundamental_tunes= [Q[0]])"
   ]
  },
  {
   "cell_type": "code",
   "execution_count": null,
   "metadata": {},
   "outputs": [
    {
     "data": {
      "text/plain": [
       "[0.3100208433909691, 0.32002046321603844, 0.001866552984419961]"
      ]
     },
     "execution_count": 14,
     "metadata": {},
     "output_type": "execute_result"
    }
   ],
   "source": [
    "fundamental_tunes"
   ]
  },
  {
   "cell_type": "code",
   "execution_count": null,
   "metadata": {},
   "outputs": [],
   "source": [
    "fundamental_tunes = [nafflib.tune(part[f'{plane}'],part[f'p{plane}'],window_order=2) for plane in ['x','y','zeta']]\n",
    "max_jklm = 10\n",
    "\n",
    "# Create a 3D array of all possible combinations of j, k, l\n",
    "j,k,l,m = np.mgrid[-max_jklm:max_jklm+1, -max_jklm:max_jklm+1,-max_jklm:max_jklm+1,-max_jklm:max_jklm+1]\n",
    "\n",
    "# nu = j*Q_x + k*Q_y + l*Q_z + m\n",
    "all_combinations = j * fundamental_tunes[0] + k * fundamental_tunes[1] + l * fundamental_tunes[2] + m"
   ]
  },
  {
   "cell_type": "code",
   "execution_count": null,
   "metadata": {},
   "outputs": [
    {
     "data": {
      "text/plain": [
       "array([[[[-16.3190786 , -15.3190786 , -14.3190786 , ...,   1.6809214 ,\n",
       "            2.6809214 ,   3.6809214 ],\n",
       "         [-16.31721204, -15.31721204, -14.31721204, ...,   1.68278796,\n",
       "            2.68278796,   3.68278796],\n",
       "         [-16.31534549, -15.31534549, -14.31534549, ...,   1.68465451,\n",
       "            2.68465451,   3.68465451],\n",
       "         ...,\n",
       "         [-16.28548064, -15.28548064, -14.28548064, ...,   1.71451936,\n",
       "            2.71451936,   3.71451936],\n",
       "         [-16.28361409, -15.28361409, -14.28361409, ...,   1.71638591,\n",
       "            2.71638591,   3.71638591],\n",
       "         [-16.28174754, -15.28174754, -14.28174754, ...,   1.71825246,\n",
       "            2.71825246,   3.71825246]],\n",
       "\n",
       "        [[-15.99905813, -14.99905813, -13.99905813, ...,   2.00094187,\n",
       "            3.00094187,   4.00094187],\n",
       "         [-15.99719158, -14.99719158, -13.99719158, ...,   2.00280842,\n",
       "            3.00280842,   4.00280842],\n",
       "         [-15.99532503, -14.99532503, -13.99532503, ...,   2.00467497,\n",
       "            3.00467497,   4.00467497],\n",
       "         ...,\n",
       "         [-15.96546018, -14.96546018, -13.96546018, ...,   2.03453982,\n",
       "            3.03453982,   4.03453982],\n",
       "         [-15.96359363, -14.96359363, -13.96359363, ...,   2.03640637,\n",
       "            3.03640637,   4.03640637],\n",
       "         [-15.96172707, -14.96172707, -13.96172707, ...,   2.03827293,\n",
       "            3.03827293,   4.03827293]],\n",
       "\n",
       "        [[-15.67903767, -14.67903767, -13.67903767, ...,   2.32096233,\n",
       "            3.32096233,   4.32096233],\n",
       "         [-15.67717112, -14.67717112, -13.67717112, ...,   2.32282888,\n",
       "            3.32282888,   4.32282888],\n",
       "         [-15.67530456, -14.67530456, -13.67530456, ...,   2.32469544,\n",
       "            3.32469544,   4.32469544],\n",
       "         ...,\n",
       "         [-15.64543972, -14.64543972, -13.64543972, ...,   2.35456028,\n",
       "            3.35456028,   4.35456028],\n",
       "         [-15.64357316, -14.64357316, -13.64357316, ...,   2.35642684,\n",
       "            3.35642684,   4.35642684],\n",
       "         [-15.64170661, -14.64170661, -13.64170661, ...,   2.35829339,\n",
       "            3.35829339,   4.35829339]],\n",
       "\n",
       "        ...,\n",
       "\n",
       "        [[-10.55871026,  -9.55871026,  -8.55871026, ...,   7.44128974,\n",
       "            8.44128974,   9.44128974],\n",
       "         [-10.55684371,  -9.55684371,  -8.55684371, ...,   7.44315629,\n",
       "            8.44315629,   9.44315629],\n",
       "         [-10.55497715,  -9.55497715,  -8.55497715, ...,   7.44502285,\n",
       "            8.44502285,   9.44502285],\n",
       "         ...,\n",
       "         [-10.5251123 ,  -9.5251123 ,  -8.5251123 , ...,   7.4748877 ,\n",
       "            8.4748877 ,   9.4748877 ],\n",
       "         [-10.52324575,  -9.52324575,  -8.52324575, ...,   7.47675425,\n",
       "            8.47675425,   9.47675425],\n",
       "         [-10.5213792 ,  -9.5213792 ,  -8.5213792 , ...,   7.4786208 ,\n",
       "            8.4786208 ,   9.4786208 ]],\n",
       "\n",
       "        [[-10.23868979,  -9.23868979,  -8.23868979, ...,   7.76131021,\n",
       "            8.76131021,   9.76131021],\n",
       "         [-10.23682324,  -9.23682324,  -8.23682324, ...,   7.76317676,\n",
       "            8.76317676,   9.76317676],\n",
       "         [-10.23495669,  -9.23495669,  -8.23495669, ...,   7.76504331,\n",
       "            8.76504331,   9.76504331],\n",
       "         ...,\n",
       "         [-10.20509184,  -9.20509184,  -8.20509184, ...,   7.79490816,\n",
       "            8.79490816,   9.79490816],\n",
       "         [-10.20322529,  -9.20322529,  -8.20322529, ...,   7.79677471,\n",
       "            8.79677471,   9.79677471],\n",
       "         [-10.20135874,  -9.20135874,  -8.20135874, ...,   7.79864126,\n",
       "            8.79864126,   9.79864126]],\n",
       "\n",
       "        [[ -9.91866933,  -8.91866933,  -7.91866933, ...,   8.08133067,\n",
       "            9.08133067,  10.08133067],\n",
       "         [ -9.91680278,  -8.91680278,  -7.91680278, ...,   8.08319722,\n",
       "            9.08319722,  10.08319722],\n",
       "         [ -9.91493623,  -8.91493623,  -7.91493623, ...,   8.08506377,\n",
       "            9.08506377,  10.08506377],\n",
       "         ...,\n",
       "         [ -9.88507138,  -8.88507138,  -7.88507138, ...,   8.11492862,\n",
       "            9.11492862,  10.11492862],\n",
       "         [ -9.88320482,  -8.88320482,  -7.88320482, ...,   8.11679518,\n",
       "            9.11679518,  10.11679518],\n",
       "         [ -9.88133827,  -8.88133827,  -7.88133827, ...,   8.11866173,\n",
       "            9.11866173,  10.11866173]]],\n",
       "\n",
       "\n",
       "       [[[-16.00905775, -15.00905775, -14.00905775, ...,   1.99094225,\n",
       "            2.99094225,   3.99094225],\n",
       "         [-16.0071912 , -15.0071912 , -14.0071912 , ...,   1.9928088 ,\n",
       "            2.9928088 ,   3.9928088 ],\n",
       "         [-16.00532465, -15.00532465, -14.00532465, ...,   1.99467535,\n",
       "            2.99467535,   3.99467535],\n",
       "         ...,\n",
       "         [-15.9754598 , -14.9754598 , -13.9754598 , ...,   2.0245402 ,\n",
       "            3.0245402 ,   4.0245402 ],\n",
       "         [-15.97359325, -14.97359325, -13.97359325, ...,   2.02640675,\n",
       "            3.02640675,   4.02640675],\n",
       "         [-15.97172669, -14.97172669, -13.97172669, ...,   2.02827331,\n",
       "            3.02827331,   4.02827331]],\n",
       "\n",
       "        [[-15.68903729, -14.68903729, -13.68903729, ...,   2.31096271,\n",
       "            3.31096271,   4.31096271],\n",
       "         [-15.68717074, -14.68717074, -13.68717074, ...,   2.31282926,\n",
       "            3.31282926,   4.31282926],\n",
       "         [-15.68530418, -14.68530418, -13.68530418, ...,   2.31469582,\n",
       "            3.31469582,   4.31469582],\n",
       "         ...,\n",
       "         [-15.65543934, -14.65543934, -13.65543934, ...,   2.34456066,\n",
       "            3.34456066,   4.34456066],\n",
       "         [-15.65357278, -14.65357278, -13.65357278, ...,   2.34642722,\n",
       "            3.34642722,   4.34642722],\n",
       "         [-15.65170623, -14.65170623, -13.65170623, ...,   2.34829377,\n",
       "            3.34829377,   4.34829377]],\n",
       "\n",
       "        [[-15.36901683, -14.36901683, -13.36901683, ...,   2.63098317,\n",
       "            3.63098317,   4.63098317],\n",
       "         [-15.36715027, -14.36715027, -13.36715027, ...,   2.63284973,\n",
       "            3.63284973,   4.63284973],\n",
       "         [-15.36528372, -14.36528372, -13.36528372, ...,   2.63471628,\n",
       "            3.63471628,   4.63471628],\n",
       "         ...,\n",
       "         [-15.33541887, -14.33541887, -13.33541887, ...,   2.66458113,\n",
       "            3.66458113,   4.66458113],\n",
       "         [-15.33355232, -14.33355232, -13.33355232, ...,   2.66644768,\n",
       "            3.66644768,   4.66644768],\n",
       "         [-15.33168577, -14.33168577, -13.33168577, ...,   2.66831423,\n",
       "            3.66831423,   4.66831423]],\n",
       "\n",
       "        ...,\n",
       "\n",
       "        [[-10.24868941,  -9.24868941,  -8.24868941, ...,   7.75131059,\n",
       "            8.75131059,   9.75131059],\n",
       "         [-10.24682286,  -9.24682286,  -8.24682286, ...,   7.75317714,\n",
       "            8.75317714,   9.75317714],\n",
       "         [-10.24495631,  -9.24495631,  -8.24495631, ...,   7.75504369,\n",
       "            8.75504369,   9.75504369],\n",
       "         ...,\n",
       "         [-10.21509146,  -9.21509146,  -8.21509146, ...,   7.78490854,\n",
       "            8.78490854,   9.78490854],\n",
       "         [-10.21322491,  -9.21322491,  -8.21322491, ...,   7.78677509,\n",
       "            8.78677509,   9.78677509],\n",
       "         [-10.21135835,  -9.21135835,  -8.21135835, ...,   7.78864165,\n",
       "            8.78864165,   9.78864165]],\n",
       "\n",
       "        [[ -9.92866895,  -8.92866895,  -7.92866895, ...,   8.07133105,\n",
       "            9.07133105,  10.07133105],\n",
       "         [ -9.9268024 ,  -8.9268024 ,  -7.9268024 , ...,   8.0731976 ,\n",
       "            9.0731976 ,  10.0731976 ],\n",
       "         [ -9.92493585,  -8.92493585,  -7.92493585, ...,   8.07506415,\n",
       "            9.07506415,  10.07506415],\n",
       "         ...,\n",
       "         [ -9.895071  ,  -8.895071  ,  -7.895071  , ...,   8.104929  ,\n",
       "            9.104929  ,  10.104929  ],\n",
       "         [ -9.89320444,  -8.89320444,  -7.89320444, ...,   8.10679556,\n",
       "            9.10679556,  10.10679556],\n",
       "         [ -9.89133789,  -8.89133789,  -7.89133789, ...,   8.10866211,\n",
       "            9.10866211,  10.10866211]],\n",
       "\n",
       "        [[ -9.60864849,  -8.60864849,  -7.60864849, ...,   8.39135151,\n",
       "            9.39135151,  10.39135151],\n",
       "         [ -9.60678194,  -8.60678194,  -7.60678194, ...,   8.39321806,\n",
       "            9.39321806,  10.39321806],\n",
       "         [ -9.60491538,  -8.60491538,  -7.60491538, ...,   8.39508462,\n",
       "            9.39508462,  10.39508462],\n",
       "         ...,\n",
       "         [ -9.57505053,  -8.57505053,  -7.57505053, ...,   8.42494947,\n",
       "            9.42494947,  10.42494947],\n",
       "         [ -9.57318398,  -8.57318398,  -7.57318398, ...,   8.42681602,\n",
       "            9.42681602,  10.42681602],\n",
       "         [ -9.57131743,  -8.57131743,  -7.57131743, ...,   8.42868257,\n",
       "            9.42868257,  10.42868257]]],\n",
       "\n",
       "\n",
       "       [[[-15.69903691, -14.69903691, -13.69903691, ...,   2.30096309,\n",
       "            3.30096309,   4.30096309],\n",
       "         [-15.69717036, -14.69717036, -13.69717036, ...,   2.30282964,\n",
       "            3.30282964,   4.30282964],\n",
       "         [-15.6953038 , -14.6953038 , -13.6953038 , ...,   2.3046962 ,\n",
       "            3.3046962 ,   4.3046962 ],\n",
       "         ...,\n",
       "         [-15.66543896, -14.66543896, -13.66543896, ...,   2.33456104,\n",
       "            3.33456104,   4.33456104],\n",
       "         [-15.6635724 , -14.6635724 , -13.6635724 , ...,   2.3364276 ,\n",
       "            3.3364276 ,   4.3364276 ],\n",
       "         [-15.66170585, -14.66170585, -13.66170585, ...,   2.33829415,\n",
       "            3.33829415,   4.33829415]],\n",
       "\n",
       "        [[-15.37901645, -14.37901645, -13.37901645, ...,   2.62098355,\n",
       "            3.62098355,   4.62098355],\n",
       "         [-15.37714989, -14.37714989, -13.37714989, ...,   2.62285011,\n",
       "            3.62285011,   4.62285011],\n",
       "         [-15.37528334, -14.37528334, -13.37528334, ...,   2.62471666,\n",
       "            3.62471666,   4.62471666],\n",
       "         ...,\n",
       "         [-15.34541849, -14.34541849, -13.34541849, ...,   2.65458151,\n",
       "            3.65458151,   4.65458151],\n",
       "         [-15.34355194, -14.34355194, -13.34355194, ...,   2.65644806,\n",
       "            3.65644806,   4.65644806],\n",
       "         [-15.34168539, -14.34168539, -13.34168539, ...,   2.65831461,\n",
       "            3.65831461,   4.65831461]],\n",
       "\n",
       "        [[-15.05899598, -14.05899598, -13.05899598, ...,   2.94100402,\n",
       "            3.94100402,   4.94100402],\n",
       "         [-15.05712943, -14.05712943, -13.05712943, ...,   2.94287057,\n",
       "            3.94287057,   4.94287057],\n",
       "         [-15.05526288, -14.05526288, -13.05526288, ...,   2.94473712,\n",
       "            3.94473712,   4.94473712],\n",
       "         ...,\n",
       "         [-15.02539803, -14.02539803, -13.02539803, ...,   2.97460197,\n",
       "            3.97460197,   4.97460197],\n",
       "         [-15.02353148, -14.02353148, -13.02353148, ...,   2.97646852,\n",
       "            3.97646852,   4.97646852],\n",
       "         [-15.02166492, -14.02166492, -13.02166492, ...,   2.97833508,\n",
       "            3.97833508,   4.97833508]],\n",
       "\n",
       "        ...,\n",
       "\n",
       "        [[ -9.93866857,  -8.93866857,  -7.93866857, ...,   8.06133143,\n",
       "            9.06133143,  10.06133143],\n",
       "         [ -9.93680202,  -8.93680202,  -7.93680202, ...,   8.06319798,\n",
       "            9.06319798,  10.06319798],\n",
       "         [ -9.93493547,  -8.93493547,  -7.93493547, ...,   8.06506453,\n",
       "            9.06506453,  10.06506453],\n",
       "         ...,\n",
       "         [ -9.90507062,  -8.90507062,  -7.90507062, ...,   8.09492938,\n",
       "            9.09492938,  10.09492938],\n",
       "         [ -9.90320406,  -8.90320406,  -7.90320406, ...,   8.09679594,\n",
       "            9.09679594,  10.09679594],\n",
       "         [ -9.90133751,  -8.90133751,  -7.90133751, ...,   8.09866249,\n",
       "            9.09866249,  10.09866249]],\n",
       "\n",
       "        [[ -9.61864811,  -8.61864811,  -7.61864811, ...,   8.38135189,\n",
       "            9.38135189,  10.38135189],\n",
       "         [ -9.61678156,  -8.61678156,  -7.61678156, ...,   8.38321844,\n",
       "            9.38321844,  10.38321844],\n",
       "         [ -9.614915  ,  -8.614915  ,  -7.614915  , ...,   8.385085  ,\n",
       "            9.385085  ,  10.385085  ],\n",
       "         ...,\n",
       "         [ -9.58505015,  -8.58505015,  -7.58505015, ...,   8.41494985,\n",
       "            9.41494985,  10.41494985],\n",
       "         [ -9.5831836 ,  -8.5831836 ,  -7.5831836 , ...,   8.4168164 ,\n",
       "            9.4168164 ,  10.4168164 ],\n",
       "         [ -9.58131705,  -8.58131705,  -7.58131705, ...,   8.41868295,\n",
       "            9.41868295,  10.41868295]],\n",
       "\n",
       "        [[ -9.29862764,  -8.29862764,  -7.29862764, ...,   8.70137236,\n",
       "            9.70137236,  10.70137236],\n",
       "         [ -9.29676109,  -8.29676109,  -7.29676109, ...,   8.70323891,\n",
       "            9.70323891,  10.70323891],\n",
       "         [ -9.29489454,  -8.29489454,  -7.29489454, ...,   8.70510546,\n",
       "            9.70510546,  10.70510546],\n",
       "         ...,\n",
       "         [ -9.26502969,  -8.26502969,  -7.26502969, ...,   8.73497031,\n",
       "            9.73497031,  10.73497031],\n",
       "         [ -9.26316314,  -8.26316314,  -7.26316314, ...,   8.73683686,\n",
       "            9.73683686,  10.73683686],\n",
       "         [ -9.26129659,  -8.26129659,  -7.26129659, ...,   8.73870341,\n",
       "            9.73870341,  10.73870341]]],\n",
       "\n",
       "\n",
       "       ...,\n",
       "\n",
       "\n",
       "       [[[-10.73870341,  -9.73870341,  -8.73870341, ...,   7.26129659,\n",
       "            8.26129659,   9.26129659],\n",
       "         [-10.73683686,  -9.73683686,  -8.73683686, ...,   7.26316314,\n",
       "            8.26316314,   9.26316314],\n",
       "         [-10.73497031,  -9.73497031,  -8.73497031, ...,   7.26502969,\n",
       "            8.26502969,   9.26502969],\n",
       "         ...,\n",
       "         [-10.70510546,  -9.70510546,  -8.70510546, ...,   7.29489454,\n",
       "            8.29489454,   9.29489454],\n",
       "         [-10.70323891,  -9.70323891,  -8.70323891, ...,   7.29676109,\n",
       "            8.29676109,   9.29676109],\n",
       "         [-10.70137236,  -9.70137236,  -8.70137236, ...,   7.29862764,\n",
       "            8.29862764,   9.29862764]],\n",
       "\n",
       "        [[-10.41868295,  -9.41868295,  -8.41868295, ...,   7.58131705,\n",
       "            8.58131705,   9.58131705],\n",
       "         [-10.4168164 ,  -9.4168164 ,  -8.4168164 , ...,   7.5831836 ,\n",
       "            8.5831836 ,   9.5831836 ],\n",
       "         [-10.41494985,  -9.41494985,  -8.41494985, ...,   7.58505015,\n",
       "            8.58505015,   9.58505015],\n",
       "         ...,\n",
       "         [-10.385085  ,  -9.385085  ,  -8.385085  , ...,   7.614915  ,\n",
       "            8.614915  ,   9.614915  ],\n",
       "         [-10.38321844,  -9.38321844,  -8.38321844, ...,   7.61678156,\n",
       "            8.61678156,   9.61678156],\n",
       "         [-10.38135189,  -9.38135189,  -8.38135189, ...,   7.61864811,\n",
       "            8.61864811,   9.61864811]],\n",
       "\n",
       "        [[-10.09866249,  -9.09866249,  -8.09866249, ...,   7.90133751,\n",
       "            8.90133751,   9.90133751],\n",
       "         [-10.09679594,  -9.09679594,  -8.09679594, ...,   7.90320406,\n",
       "            8.90320406,   9.90320406],\n",
       "         [-10.09492938,  -9.09492938,  -8.09492938, ...,   7.90507062,\n",
       "            8.90507062,   9.90507062],\n",
       "         ...,\n",
       "         [-10.06506453,  -9.06506453,  -8.06506453, ...,   7.93493547,\n",
       "            8.93493547,   9.93493547],\n",
       "         [-10.06319798,  -9.06319798,  -8.06319798, ...,   7.93680202,\n",
       "            8.93680202,   9.93680202],\n",
       "         [-10.06133143,  -9.06133143,  -8.06133143, ...,   7.93866857,\n",
       "            8.93866857,   9.93866857]],\n",
       "\n",
       "        ...,\n",
       "\n",
       "        [[ -4.97833508,  -3.97833508,  -2.97833508, ...,  13.02166492,\n",
       "           14.02166492,  15.02166492],\n",
       "         [ -4.97646852,  -3.97646852,  -2.97646852, ...,  13.02353148,\n",
       "           14.02353148,  15.02353148],\n",
       "         [ -4.97460197,  -3.97460197,  -2.97460197, ...,  13.02539803,\n",
       "           14.02539803,  15.02539803],\n",
       "         ...,\n",
       "         [ -4.94473712,  -3.94473712,  -2.94473712, ...,  13.05526288,\n",
       "           14.05526288,  15.05526288],\n",
       "         [ -4.94287057,  -3.94287057,  -2.94287057, ...,  13.05712943,\n",
       "           14.05712943,  15.05712943],\n",
       "         [ -4.94100402,  -3.94100402,  -2.94100402, ...,  13.05899598,\n",
       "           14.05899598,  15.05899598]],\n",
       "\n",
       "        [[ -4.65831461,  -3.65831461,  -2.65831461, ...,  13.34168539,\n",
       "           14.34168539,  15.34168539],\n",
       "         [ -4.65644806,  -3.65644806,  -2.65644806, ...,  13.34355194,\n",
       "           14.34355194,  15.34355194],\n",
       "         [ -4.65458151,  -3.65458151,  -2.65458151, ...,  13.34541849,\n",
       "           14.34541849,  15.34541849],\n",
       "         ...,\n",
       "         [ -4.62471666,  -3.62471666,  -2.62471666, ...,  13.37528334,\n",
       "           14.37528334,  15.37528334],\n",
       "         [ -4.62285011,  -3.62285011,  -2.62285011, ...,  13.37714989,\n",
       "           14.37714989,  15.37714989],\n",
       "         [ -4.62098355,  -3.62098355,  -2.62098355, ...,  13.37901645,\n",
       "           14.37901645,  15.37901645]],\n",
       "\n",
       "        [[ -4.33829415,  -3.33829415,  -2.33829415, ...,  13.66170585,\n",
       "           14.66170585,  15.66170585],\n",
       "         [ -4.3364276 ,  -3.3364276 ,  -2.3364276 , ...,  13.6635724 ,\n",
       "           14.6635724 ,  15.6635724 ],\n",
       "         [ -4.33456104,  -3.33456104,  -2.33456104, ...,  13.66543896,\n",
       "           14.66543896,  15.66543896],\n",
       "         ...,\n",
       "         [ -4.3046962 ,  -3.3046962 ,  -2.3046962 , ...,  13.6953038 ,\n",
       "           14.6953038 ,  15.6953038 ],\n",
       "         [ -4.30282964,  -3.30282964,  -2.30282964, ...,  13.69717036,\n",
       "           14.69717036,  15.69717036],\n",
       "         [ -4.30096309,  -3.30096309,  -2.30096309, ...,  13.69903691,\n",
       "           14.69903691,  15.69903691]]],\n",
       "\n",
       "\n",
       "       [[[-10.42868257,  -9.42868257,  -8.42868257, ...,   7.57131743,\n",
       "            8.57131743,   9.57131743],\n",
       "         [-10.42681602,  -9.42681602,  -8.42681602, ...,   7.57318398,\n",
       "            8.57318398,   9.57318398],\n",
       "         [-10.42494947,  -9.42494947,  -8.42494947, ...,   7.57505053,\n",
       "            8.57505053,   9.57505053],\n",
       "         ...,\n",
       "         [-10.39508462,  -9.39508462,  -8.39508462, ...,   7.60491538,\n",
       "            8.60491538,   9.60491538],\n",
       "         [-10.39321806,  -9.39321806,  -8.39321806, ...,   7.60678194,\n",
       "            8.60678194,   9.60678194],\n",
       "         [-10.39135151,  -9.39135151,  -8.39135151, ...,   7.60864849,\n",
       "            8.60864849,   9.60864849]],\n",
       "\n",
       "        [[-10.10866211,  -9.10866211,  -8.10866211, ...,   7.89133789,\n",
       "            8.89133789,   9.89133789],\n",
       "         [-10.10679556,  -9.10679556,  -8.10679556, ...,   7.89320444,\n",
       "            8.89320444,   9.89320444],\n",
       "         [-10.104929  ,  -9.104929  ,  -8.104929  , ...,   7.895071  ,\n",
       "            8.895071  ,   9.895071  ],\n",
       "         ...,\n",
       "         [-10.07506415,  -9.07506415,  -8.07506415, ...,   7.92493585,\n",
       "            8.92493585,   9.92493585],\n",
       "         [-10.0731976 ,  -9.0731976 ,  -8.0731976 , ...,   7.9268024 ,\n",
       "            8.9268024 ,   9.9268024 ],\n",
       "         [-10.07133105,  -9.07133105,  -8.07133105, ...,   7.92866895,\n",
       "            8.92866895,   9.92866895]],\n",
       "\n",
       "        [[ -9.78864165,  -8.78864165,  -7.78864165, ...,   8.21135835,\n",
       "            9.21135835,  10.21135835],\n",
       "         [ -9.78677509,  -8.78677509,  -7.78677509, ...,   8.21322491,\n",
       "            9.21322491,  10.21322491],\n",
       "         [ -9.78490854,  -8.78490854,  -7.78490854, ...,   8.21509146,\n",
       "            9.21509146,  10.21509146],\n",
       "         ...,\n",
       "         [ -9.75504369,  -8.75504369,  -7.75504369, ...,   8.24495631,\n",
       "            9.24495631,  10.24495631],\n",
       "         [ -9.75317714,  -8.75317714,  -7.75317714, ...,   8.24682286,\n",
       "            9.24682286,  10.24682286],\n",
       "         [ -9.75131059,  -8.75131059,  -7.75131059, ...,   8.24868941,\n",
       "            9.24868941,  10.24868941]],\n",
       "\n",
       "        ...,\n",
       "\n",
       "        [[ -4.66831423,  -3.66831423,  -2.66831423, ...,  13.33168577,\n",
       "           14.33168577,  15.33168577],\n",
       "         [ -4.66644768,  -3.66644768,  -2.66644768, ...,  13.33355232,\n",
       "           14.33355232,  15.33355232],\n",
       "         [ -4.66458113,  -3.66458113,  -2.66458113, ...,  13.33541887,\n",
       "           14.33541887,  15.33541887],\n",
       "         ...,\n",
       "         [ -4.63471628,  -3.63471628,  -2.63471628, ...,  13.36528372,\n",
       "           14.36528372,  15.36528372],\n",
       "         [ -4.63284973,  -3.63284973,  -2.63284973, ...,  13.36715027,\n",
       "           14.36715027,  15.36715027],\n",
       "         [ -4.63098317,  -3.63098317,  -2.63098317, ...,  13.36901683,\n",
       "           14.36901683,  15.36901683]],\n",
       "\n",
       "        [[ -4.34829377,  -3.34829377,  -2.34829377, ...,  13.65170623,\n",
       "           14.65170623,  15.65170623],\n",
       "         [ -4.34642722,  -3.34642722,  -2.34642722, ...,  13.65357278,\n",
       "           14.65357278,  15.65357278],\n",
       "         [ -4.34456066,  -3.34456066,  -2.34456066, ...,  13.65543934,\n",
       "           14.65543934,  15.65543934],\n",
       "         ...,\n",
       "         [ -4.31469582,  -3.31469582,  -2.31469582, ...,  13.68530418,\n",
       "           14.68530418,  15.68530418],\n",
       "         [ -4.31282926,  -3.31282926,  -2.31282926, ...,  13.68717074,\n",
       "           14.68717074,  15.68717074],\n",
       "         [ -4.31096271,  -3.31096271,  -2.31096271, ...,  13.68903729,\n",
       "           14.68903729,  15.68903729]],\n",
       "\n",
       "        [[ -4.02827331,  -3.02827331,  -2.02827331, ...,  13.97172669,\n",
       "           14.97172669,  15.97172669],\n",
       "         [ -4.02640675,  -3.02640675,  -2.02640675, ...,  13.97359325,\n",
       "           14.97359325,  15.97359325],\n",
       "         [ -4.0245402 ,  -3.0245402 ,  -2.0245402 , ...,  13.9754598 ,\n",
       "           14.9754598 ,  15.9754598 ],\n",
       "         ...,\n",
       "         [ -3.99467535,  -2.99467535,  -1.99467535, ...,  14.00532465,\n",
       "           15.00532465,  16.00532465],\n",
       "         [ -3.9928088 ,  -2.9928088 ,  -1.9928088 , ...,  14.0071912 ,\n",
       "           15.0071912 ,  16.0071912 ],\n",
       "         [ -3.99094225,  -2.99094225,  -1.99094225, ...,  14.00905775,\n",
       "           15.00905775,  16.00905775]]],\n",
       "\n",
       "\n",
       "       [[[-10.11866173,  -9.11866173,  -8.11866173, ...,   7.88133827,\n",
       "            8.88133827,   9.88133827],\n",
       "         [-10.11679518,  -9.11679518,  -8.11679518, ...,   7.88320482,\n",
       "            8.88320482,   9.88320482],\n",
       "         [-10.11492862,  -9.11492862,  -8.11492862, ...,   7.88507138,\n",
       "            8.88507138,   9.88507138],\n",
       "         ...,\n",
       "         [-10.08506377,  -9.08506377,  -8.08506377, ...,   7.91493623,\n",
       "            8.91493623,   9.91493623],\n",
       "         [-10.08319722,  -9.08319722,  -8.08319722, ...,   7.91680278,\n",
       "            8.91680278,   9.91680278],\n",
       "         [-10.08133067,  -9.08133067,  -8.08133067, ...,   7.91866933,\n",
       "            8.91866933,   9.91866933]],\n",
       "\n",
       "        [[ -9.79864126,  -8.79864126,  -7.79864126, ...,   8.20135874,\n",
       "            9.20135874,  10.20135874],\n",
       "         [ -9.79677471,  -8.79677471,  -7.79677471, ...,   8.20322529,\n",
       "            9.20322529,  10.20322529],\n",
       "         [ -9.79490816,  -8.79490816,  -7.79490816, ...,   8.20509184,\n",
       "            9.20509184,  10.20509184],\n",
       "         ...,\n",
       "         [ -9.76504331,  -8.76504331,  -7.76504331, ...,   8.23495669,\n",
       "            9.23495669,  10.23495669],\n",
       "         [ -9.76317676,  -8.76317676,  -7.76317676, ...,   8.23682324,\n",
       "            9.23682324,  10.23682324],\n",
       "         [ -9.76131021,  -8.76131021,  -7.76131021, ...,   8.23868979,\n",
       "            9.23868979,  10.23868979]],\n",
       "\n",
       "        [[ -9.4786208 ,  -8.4786208 ,  -7.4786208 , ...,   8.5213792 ,\n",
       "            9.5213792 ,  10.5213792 ],\n",
       "         [ -9.47675425,  -8.47675425,  -7.47675425, ...,   8.52324575,\n",
       "            9.52324575,  10.52324575],\n",
       "         [ -9.4748877 ,  -8.4748877 ,  -7.4748877 , ...,   8.5251123 ,\n",
       "            9.5251123 ,  10.5251123 ],\n",
       "         ...,\n",
       "         [ -9.44502285,  -8.44502285,  -7.44502285, ...,   8.55497715,\n",
       "            9.55497715,  10.55497715],\n",
       "         [ -9.44315629,  -8.44315629,  -7.44315629, ...,   8.55684371,\n",
       "            9.55684371,  10.55684371],\n",
       "         [ -9.44128974,  -8.44128974,  -7.44128974, ...,   8.55871026,\n",
       "            9.55871026,  10.55871026]],\n",
       "\n",
       "        ...,\n",
       "\n",
       "        [[ -4.35829339,  -3.35829339,  -2.35829339, ...,  13.64170661,\n",
       "           14.64170661,  15.64170661],\n",
       "         [ -4.35642684,  -3.35642684,  -2.35642684, ...,  13.64357316,\n",
       "           14.64357316,  15.64357316],\n",
       "         [ -4.35456028,  -3.35456028,  -2.35456028, ...,  13.64543972,\n",
       "           14.64543972,  15.64543972],\n",
       "         ...,\n",
       "         [ -4.32469544,  -3.32469544,  -2.32469544, ...,  13.67530456,\n",
       "           14.67530456,  15.67530456],\n",
       "         [ -4.32282888,  -3.32282888,  -2.32282888, ...,  13.67717112,\n",
       "           14.67717112,  15.67717112],\n",
       "         [ -4.32096233,  -3.32096233,  -2.32096233, ...,  13.67903767,\n",
       "           14.67903767,  15.67903767]],\n",
       "\n",
       "        [[ -4.03827293,  -3.03827293,  -2.03827293, ...,  13.96172707,\n",
       "           14.96172707,  15.96172707],\n",
       "         [ -4.03640637,  -3.03640637,  -2.03640637, ...,  13.96359363,\n",
       "           14.96359363,  15.96359363],\n",
       "         [ -4.03453982,  -3.03453982,  -2.03453982, ...,  13.96546018,\n",
       "           14.96546018,  15.96546018],\n",
       "         ...,\n",
       "         [ -4.00467497,  -3.00467497,  -2.00467497, ...,  13.99532503,\n",
       "           14.99532503,  15.99532503],\n",
       "         [ -4.00280842,  -3.00280842,  -2.00280842, ...,  13.99719158,\n",
       "           14.99719158,  15.99719158],\n",
       "         [ -4.00094187,  -3.00094187,  -2.00094187, ...,  13.99905813,\n",
       "           14.99905813,  15.99905813]],\n",
       "\n",
       "        [[ -3.71825246,  -2.71825246,  -1.71825246, ...,  14.28174754,\n",
       "           15.28174754,  16.28174754],\n",
       "         [ -3.71638591,  -2.71638591,  -1.71638591, ...,  14.28361409,\n",
       "           15.28361409,  16.28361409],\n",
       "         [ -3.71451936,  -2.71451936,  -1.71451936, ...,  14.28548064,\n",
       "           15.28548064,  16.28548064],\n",
       "         ...,\n",
       "         [ -3.68465451,  -2.68465451,  -1.68465451, ...,  14.31534549,\n",
       "           15.31534549,  16.31534549],\n",
       "         [ -3.68278796,  -2.68278796,  -1.68278796, ...,  14.31721204,\n",
       "           15.31721204,  16.31721204],\n",
       "         [ -3.6809214 ,  -2.6809214 ,  -1.6809214 , ...,  14.3190786 ,\n",
       "           15.3190786 ,  16.3190786 ]]]])"
      ]
     },
     "execution_count": 16,
     "metadata": {},
     "output_type": "execute_result"
    }
   ],
   "source": [
    "all_combinations"
   ]
  },
  {
   "cell_type": "code",
   "execution_count": null,
   "metadata": {},
   "outputs": [],
   "source": [
    "# Create a 3D array of all possible combinations of r_vec\n",
    "idx = max_jklm\n",
    "if len(fundamental_tunes) == 1:\n",
    "    r1,r2       = np.mgrid[-idx:idx+1, -idx:idx+1]\n",
    "    r_vec       = [r1,r2]\n",
    "elif len(fundamental_tunes) == 2:\n",
    "    r1,r2,r3    = np.mgrid[-idx:idx+1, -idx:idx+1,-idx:idx+1]\n",
    "    r_vec       = [r1,r2,r3]\n",
    "else:\n",
    "    r1,r2,r3,r4 = np.mgrid[-idx:idx+1, -idx:idx+1,-idx:idx+1,-idx:idx+1]\n",
    "    r_vec       = [r1,r2,r3,r4]\n",
    "Q_vec = fundamental_tunes + [1]\n",
    "all_combinations2    = sum([_r*_Q for _r,_Q in zip(r_vec,Q_vec)])"
   ]
  },
  {
   "cell_type": "code",
   "execution_count": null,
   "metadata": {},
   "outputs": [
    {
     "data": {
      "text/plain": [
       "True"
      ]
     },
     "execution_count": 23,
     "metadata": {},
     "output_type": "execute_result"
    }
   ],
   "source": [
    "np.all(all_combinations2 == all_combinations)"
   ]
  },
  {
   "cell_type": "code",
   "execution_count": null,
   "metadata": {},
   "outputs": [],
   "source": []
  }
 ],
 "metadata": {
  "kernelspec": {
   "display_name": "py-BB",
   "language": "python",
   "name": "py-bb"
  },
  "language_info": {
   "codemirror_mode": {
    "name": "ipython",
    "version": 3
   },
   "file_extension": ".py",
   "mimetype": "text/x-python",
   "name": "python",
   "nbconvert_exporter": "python",
   "pygments_lexer": "ipython3",
   "version": "3.11.5"
  }
 },
 "nbformat": 4,
 "nbformat_minor": 2
}
